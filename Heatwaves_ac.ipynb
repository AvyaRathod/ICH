{
 "cells": [
  {
   "cell_type": "code",
   "execution_count": 1,
   "id": "9584fd39",
   "metadata": {},
   "outputs": [
    {
     "name": "stderr",
     "output_type": "stream",
     "text": [
      "/Users/varnika/anaconda3/lib/python3.11/site-packages/pandas/core/arrays/masked.py:60: UserWarning: Pandas requires version '1.3.6' or newer of 'bottleneck' (version '1.3.5' currently installed).\n",
      "  from pandas.core import (\n",
      "/var/folders/gw/xg9wcgln7x1f2k7qpz6vkm_c0000gn/T/ipykernel_36172/1522025319.py:7: DtypeWarning: Columns (9) have mixed types. Specify dtype option on import or set low_memory=False.\n",
      "  df = pd.read_csv('/Users/varnika/Desktop/harvard/all_var_int.csv')\n"
     ]
    }
   ],
   "source": [
    "import pandas as pd \n",
    "import numpy as np\n",
    "from sklearn.preprocessing import StandardScaler,RobustScaler,MinMaxScaler\n",
    "import matplotlib.pyplot as plt\n",
    "from sklearn.decomposition import PCA\n",
    "\n",
    "df = pd.read_csv('/Users/varnika/Desktop/harvard/all_var_int.csv')\n",
    "pd.set_option('display.max_columns', None)"
   ]
  },
  {
   "cell_type": "code",
   "execution_count": 6,
   "id": "fd58372d",
   "metadata": {},
   "outputs": [],
   "source": [
    "heatwave_adaptive_vars = [\n",
    "    # Electricity & Infrastructure\n",
    "    \"vill_elec_no_ratio\",     # fraction of villages with no electricity (inverse)\n",
    "    \"vill_elec_mt_12_ratio\",  # fraction with >12 hrs electricity/day (positive)\n",
    "    \"vill_road_coverage\",     # fraction of villages connected by all-weather roads\n",
    "    \"vill_rwh_coverage\",      # fraction with rainwater-harvesting systems\n",
    "    \"road_pop_coverage\",      # proportion of population with reliable road access\n",
    "    \n",
    "    # Financial / Institutional\n",
    "    \"bc_per_10k_pop\",         # bank correspondents per 10k people\n",
    "    \"branch_per_10k_pop\",     # bank branches per 10k people\n",
    "    \"shg_per_1000_hh\",        # SHGs per 1000 households\n",
    "    \"pmuy_ratio\",             # coverage of LPG (clean cooking fuel)\n",
    "    \"loan_per_hh\",            # average credit access per household (if available)\n",
    "    \n",
    "    # Social Safety Nets & Livelihood\n",
    "    \"jobcard_issued_ratio\",   # fraction of households with MGNREGA jobcards\n",
    "    \"active_jobcard_ratio\",   # fraction of jobcards actively used\n",
    "    \"hh_non_farm_ratio\",      # non-farm livelihood diversification\n",
    "    \n",
    "    # Water & Irrigation\n",
    "    \"irrigation_ratio\",       # fraction of net irrigated area (crops less vulnerable to heat)      \n",
    "]\n"
   ]
  },
  {
   "cell_type": "code",
   "execution_count": 7,
   "id": "299f5dbb",
   "metadata": {},
   "outputs": [
    {
     "name": "stdout",
     "output_type": "stream",
     "text": [
      "state_code               0\n",
      "district_code            0\n",
      "block_code               0\n",
      "FID_Key                  0\n",
      "vill_elec_no_ratio       0\n",
      "vill_elec_mt_12_ratio    0\n",
      "vill_road_coverage       0\n",
      "vill_rwh_coverage        0\n",
      "road_pop_coverage        0\n",
      "bc_per_10k_pop           0\n",
      "branch_per_10k_pop       0\n",
      "shg_per_1000_hh          0\n",
      "pmuy_ratio               0\n",
      "loan_per_hh              0\n",
      "jobcard_issued_ratio     0\n",
      "active_jobcard_ratio     0\n",
      "hh_non_farm_ratio        0\n",
      "irrigation_ratio         0\n",
      "dtype: int64\n"
     ]
    }
   ],
   "source": [
    "import pandas as pd\n",
    "\n",
    "id_cols = [\"state_code\", \"district_code\", \"block_code\", \"FID_Key\"]\n",
    "heatwave_cols = id_cols + heatwave_adaptive_vars\n",
    "\n",
    "heatwave_acap_df = df[heatwave_cols].copy()\n",
    "print(heatwave_acap_df.isna().sum())  # see if any col has many missing values\n"
   ]
  },
  {
   "cell_type": "code",
   "execution_count": 8,
   "id": "ebb4266f",
   "metadata": {},
   "outputs": [],
   "source": [
    "from sklearn.preprocessing import RobustScaler\n",
    "\n",
    "Rscaler = RobustScaler()\n",
    "\n",
    "# Scale only the chosen adaptive columns\n",
    "features_only = heatwave_acap_df[heatwave_adaptive_vars].astype(float).values\n",
    "features_scaled = Rscaler.fit_transform(features_only)\n",
    "\n",
    "# Create a scaled DataFrame\n",
    "acap_scaled = pd.DataFrame(features_scaled, \n",
    "                           columns=heatwave_adaptive_vars, \n",
    "                           index=heatwave_acap_df.index)\n",
    "\n",
    "# Attach scaled columns back\n",
    "for col in heatwave_adaptive_vars:\n",
    "    heatwave_acap_df[col + \"_scaled\"] = acap_scaled[col]"
   ]
  },
  {
   "cell_type": "code",
   "execution_count": 9,
   "id": "788b7d7e",
   "metadata": {},
   "outputs": [
    {
     "name": "stdout",
     "output_type": "stream",
     "text": [
      "    % variance  Cumulative %\n",
      "0        0.695         0.695\n",
      "1        0.109         0.804\n",
      "2        0.051         0.855\n",
      "3        0.044         0.899\n",
      "4        0.029         0.928\n",
      "5        0.021         0.949\n",
      "6        0.016         0.965\n",
      "7        0.011         0.975\n",
      "8        0.010         0.985\n",
      "9        0.006         0.991\n",
      "10       0.005         0.996\n",
      "11       0.003         0.999\n",
      "12       0.001         1.000\n",
      "13       0.000         1.000\n"
     ]
    }
   ],
   "source": [
    "from sklearn.decomposition import PCA\n",
    "import numpy as np\n",
    "\n",
    "# Collect only scaled columns\n",
    "acap_pca_vars = [c for c in heatwave_acap_df.columns if c.endswith(\"_scaled\")]\n",
    "X_acap = heatwave_acap_df[acap_pca_vars].astype(float)\n",
    "\n",
    "pca = PCA()\n",
    "pca.fit(X_acap)\n",
    "\n",
    "# Summarize variance\n",
    "pcaSummary_heat = pd.DataFrame({\n",
    "    '% variance': pca.explained_variance_ratio_,\n",
    "    'Cumulative %': np.cumsum(pca.explained_variance_ratio_)\n",
    "})\n",
    "print(pcaSummary_heat.round(3))\n"
   ]
  },
  {
   "cell_type": "code",
   "execution_count": 10,
   "id": "037f1480",
   "metadata": {},
   "outputs": [
    {
     "data": {
      "image/png": "[encoded data removed]",
      "text/plain": [
       "<Figure size 800x500 with 1 Axes>"
      ]
     },
     "metadata": {},
     "output_type": "display_data"
    }
   ],
   "source": [
    "import matplotlib.pyplot as plt\n",
    "\n",
    "eigenvalues = pca.explained_variance_\n",
    "xvals = np.arange(len(eigenvalues))\n",
    "\n",
    "plt.figure(figsize=(8,5))\n",
    "plt.plot(xvals, eigenvalues, 'ro-', linewidth=2)\n",
    "plt.title(\"Scree Plot for Heatwave Adaptive Capacity PCA\")\n",
    "plt.xlabel(\"Principal Component\")\n",
    "plt.ylabel(\"Eigenvalue\")\n",
    "plt.axhline(y=1, color='b', linestyle='--', label=\"Eigenvalue=1\")\n",
    "plt.xticks(xvals)\n",
    "plt.legend()\n",
    "plt.show()\n"
   ]
  },
  {
   "cell_type": "code",
   "execution_count": null,
   "id": "7a2a0c05",
   "metadata": {},
   "outputs": [],
   "source": [
    "loadings_heat = pd.DataFrame(\n",
    "    pca_n.components_.T,\n",
    "    index=acap_pca_vars,\n",
    "    columns=[f\"PC{i+1}\" for i in range(n_components)]\n",
    ")\n",
    "print(loadings_heat)\n"
   ]
  },
  {
   "cell_type": "code",
   "execution_count": 11,
   "id": "26393f89",
   "metadata": {},
   "outputs": [
    {
     "name": "stdout",
     "output_type": "stream",
     "text": [
      "   block_code  Heatwave_AdaptiveCap_Index\n",
      "0        6498                   -0.089144\n",
      "1        6492                   -1.007412\n",
      "2        4689                    2.583778\n",
      "3        4690                   -0.708831\n",
      "4        4692                   -0.414446\n",
      "count    5.815000e+03\n",
      "mean     5.376420e-17\n",
      "std      4.003821e+00\n",
      "min     -1.608057e+00\n",
      "25%     -8.024224e-01\n",
      "50%     -5.022792e-01\n",
      "75%     -2.427178e-02\n",
      "max      1.934649e+02\n",
      "Name: Heatwave_AdaptiveCap_Index, dtype: float64\n"
     ]
    }
   ],
   "source": [
    "n_components = 5\n",
    "pca_n = PCA(n_components=n_components)\n",
    "X_acap_pca = pca_n.fit_transform(X_acap)\n",
    "\n",
    "# Extract the top PC variance ratios\n",
    "pca_weights = pcaSummary_heat['% variance'][:n_components]\n",
    "\n",
    "# Save PC scores in the DataFrame\n",
    "for i in range(n_components):\n",
    "    heatwave_acap_df[f\"HeatAdapt_PC{i+1}\"] = X_acap_pca[:, i]\n",
    "\n",
    "# Weighted sum => \"Heatwave_AdaptiveCap_Index\"\n",
    "heatwave_acap_df[\"Heatwave_AdaptiveCap_Index\"] = 0\n",
    "for i in range(n_components):\n",
    "    heatwave_acap_df[\"Heatwave_AdaptiveCap_Index\"] += (\n",
    "        pca_weights.iloc[i] * heatwave_acap_df[f\"HeatAdapt_PC{i+1}\"]\n",
    "    )\n",
    "\n",
    "print(heatwave_acap_df[[\"block_code\", \"Heatwave_AdaptiveCap_Index\"]].head())\n",
    "print(heatwave_acap_df[\"Heatwave_AdaptiveCap_Index\"].describe())\n"
   ]
  }
 ],
 "metadata": {
  "kernelspec": {
   "display_name": "Python 3 (ipykernel)",
   "language": "python",
   "name": "python3"
  },
  "language_info": {
   "codemirror_mode": {
    "name": "ipython",
    "version": 3
   },
   "file_extension": ".py",
   "mimetype": "text/x-python",
   "name": "python",
   "nbconvert_exporter": "python",
   "pygments_lexer": "ipython3",
   "version": "3.11.5"
  }
 },
 "nbformat": 4,
 "nbformat_minor": 5
}
