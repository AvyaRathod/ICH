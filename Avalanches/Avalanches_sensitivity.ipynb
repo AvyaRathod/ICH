{
 "cells": [
  {
   "cell_type": "code",
   "execution_count": 1,
   "id": "dbbe70de",
   "metadata": {},
   "outputs": [
    {
     "name": "stderr",
     "output_type": "stream",
     "text": [
      "/Users/varnika/anaconda3/lib/python3.11/site-packages/pandas/core/arrays/masked.py:60: UserWarning: Pandas requires version '1.3.6' or newer of 'bottleneck' (version '1.3.5' currently installed).\n",
      "  from pandas.core import (\n",
      "/var/folders/gw/xg9wcgln7x1f2k7qpz6vkm_c0000gn/T/ipykernel_52046/1522025319.py:7: DtypeWarning: Columns (9) have mixed types. Specify dtype option on import or set low_memory=False.\n",
      "  df = pd.read_csv('/Users/varnika/Desktop/harvard/all_var_int.csv')\n"
     ]
    }
   ],
   "source": [
    "import pandas as pd \n",
    "import numpy as np\n",
    "from sklearn.preprocessing import StandardScaler,RobustScaler,MinMaxScaler\n",
    "import matplotlib.pyplot as plt\n",
    "from sklearn.decomposition import PCA\n",
    "\n",
    "df = pd.read_csv('/Users/varnika/Desktop/harvard/all_var_int.csv')\n",
    "pd.set_option('display.max_columns', None)"
   ]
  },
  {
   "cell_type": "code",
   "execution_count": 2,
   "id": "22ab7fcd",
   "metadata": {},
   "outputs": [],
   "source": [
    "avalanche_sens_vars = [\n",
    "    \"kutchha_ratio\",\n",
    "    \"anaemic_pregnant_ratio\",\n",
    "    \"anaemic_adolescent_ratio\",\n",
    "    \"sc_ratio\",\n",
    "    \"st_ratio\",\n",
    "    \"hh_non_farm_ratio\",\n",
    "    \"pmuy_ratio\"\n",
    "]\n"
   ]
  },
  {
   "cell_type": "code",
   "execution_count": 3,
   "id": "f801e3e3",
   "metadata": {},
   "outputs": [
    {
     "name": "stdout",
     "output_type": "stream",
     "text": [
      "state_code                  0\n",
      "district_code               0\n",
      "block_code                  0\n",
      "FID_Key                     0\n",
      "kutchha_ratio               0\n",
      "anaemic_pregnant_ratio      0\n",
      "anaemic_adolescent_ratio    0\n",
      "sc_ratio                    0\n",
      "st_ratio                    0\n",
      "hh_non_farm_ratio           0\n",
      "pmuy_ratio                  0\n",
      "dtype: int64\n"
     ]
    }
   ],
   "source": [
    "import pandas as pd\n",
    "\n",
    "id_cols = [\"state_code\", \"district_code\", \"block_code\", \"FID_Key\"]\n",
    "avalanche_sens_cols = id_cols + avalanche_sens_vars\n",
    "\n",
    "# Subset from your master DataFrame (assumed to be `df`)\n",
    "avalanche_sens_df = df[avalanche_sens_cols].copy()\n",
    "\n",
    "# Check missingness\n",
    "print(avalanche_sens_df.isna().sum())\n"
   ]
  },
  {
   "cell_type": "code",
   "execution_count": 4,
   "id": "050a0558",
   "metadata": {},
   "outputs": [],
   "source": [
    "from sklearn.preprocessing import RobustScaler\n",
    "\n",
    "Rscaler = RobustScaler()\n",
    "\n",
    "# Scale only the avalanche_sens_vars\n",
    "features_only = avalanche_sens_df[avalanche_sens_vars].astype(float).values\n",
    "features_scaled = Rscaler.fit_transform(features_only)\n",
    "\n",
    "# Create scaled DataFrame\n",
    "sens_scaled = pd.DataFrame(features_scaled,\n",
    "                           columns=avalanche_sens_vars,\n",
    "                           index=avalanche_sens_df.index)\n",
    "\n",
    "# Merge scaled columns back or keep them separate\n",
    "for col in avalanche_sens_vars:\n",
    "    avalanche_sens_df[col + \"_scaled\"] = sens_scaled[col]\n"
   ]
  },
  {
   "cell_type": "code",
   "execution_count": 5,
   "id": "77c29945",
   "metadata": {},
   "outputs": [
    {
     "name": "stdout",
     "output_type": "stream",
     "text": [
      "   % variance  Cumulative %\n",
      "0       0.545         0.545\n",
      "1       0.182         0.728\n",
      "2       0.089         0.817\n",
      "3       0.061         0.878\n",
      "4       0.052         0.930\n",
      "5       0.036         0.965\n",
      "6       0.035         1.000\n"
     ]
    }
   ],
   "source": [
    "from sklearn.decomposition import PCA\n",
    "import numpy as np\n",
    "\n",
    "# Collect scaled columns only\n",
    "sens_pca_vars = [c for c in avalanche_sens_df.columns if c.endswith(\"_scaled\")]\n",
    "X_sens = avalanche_sens_df[sens_pca_vars].astype(float)\n",
    "\n",
    "pca = PCA()\n",
    "pca.fit(X_sens)\n",
    "\n",
    "# Summarize variance\n",
    "pcaSummary_aval_sens = pd.DataFrame({\n",
    "    '% variance': pca.explained_variance_ratio_,\n",
    "    'Cumulative %': np.cumsum(pca.explained_variance_ratio_)\n",
    "})\n",
    "print(pcaSummary_aval_sens.round(3))\n"
   ]
  },
  {
   "cell_type": "code",
   "execution_count": 6,
   "id": "f4d3395b",
   "metadata": {},
   "outputs": [
    {
     "data": {
      "image/png": "[encoded data removed]",
      "text/plain": [
       "<Figure size 800x500 with 1 Axes>"
      ]
     },
     "metadata": {},
     "output_type": "display_data"
    }
   ],
   "source": [
    "import matplotlib.pyplot as plt\n",
    "\n",
    "eigenvalues = pca.explained_variance_\n",
    "xvals = np.arange(len(eigenvalues))\n",
    "\n",
    "plt.figure(figsize=(8,5))\n",
    "plt.plot(xvals, eigenvalues, 'ro-', linewidth=2)\n",
    "plt.title(\"Scree Plot for Avalanche Sensitivity PCA\")\n",
    "plt.xlabel(\"Principal Component\")\n",
    "plt.ylabel(\"Eigenvalue\")\n",
    "plt.axhline(y=1, color='b', linestyle='--', label=\"Eigenvalue=1\")\n",
    "plt.xticks(xvals)\n",
    "plt.legend()\n",
    "plt.show()\n"
   ]
  },
  {
   "cell_type": "code",
   "execution_count": 7,
   "id": "22a9299a",
   "metadata": {},
   "outputs": [
    {
     "name": "stdout",
     "output_type": "stream",
     "text": [
      "   block_code  Avalanche_Sensitivity_Index\n",
      "0        6498                     0.030250\n",
      "1        6492                    -0.261866\n",
      "2        4689                    -0.366185\n",
      "3        4690                    -0.065119\n",
      "4        4692                    -0.373705\n",
      "count    5.815000e+03\n",
      "mean    -3.421358e-17\n",
      "std      1.250862e+00\n",
      "min     -1.546655e+00\n",
      "25%     -5.403753e-01\n",
      "50%     -4.289475e-01\n",
      "75%      2.089643e-02\n",
      "max      5.711832e+01\n",
      "Name: Avalanche_Sensitivity_Index, dtype: float64\n"
     ]
    }
   ],
   "source": [
    "n_components = 2  \n",
    "pca_n = PCA(n_components=n_components)\n",
    "X_sens_pca = pca_n.fit_transform(X_sens)\n",
    "\n",
    "# Retrieve top PC variance ratios\n",
    "pca_weights = pcaSummary_aval_sens['% variance'][:n_components]\n",
    "\n",
    "# Add PC columns\n",
    "for i in range(n_components):\n",
    "    avalanche_sens_df[f\"AvalSens_PC{i+1}\"] = X_sens_pca[:, i]\n",
    "\n",
    "# Weighted sum => \"Avalanche_Sensitivity_Index\"\n",
    "avalanche_sens_df[\"Avalanche_Sensitivity_Index\"] = 0\n",
    "for i in range(n_components):\n",
    "    avalanche_sens_df[\"Avalanche_Sensitivity_Index\"] += (\n",
    "        pca_weights.iloc[i] * avalanche_sens_df[f\"AvalSens_PC{i+1}\"]\n",
    "    )\n",
    "\n",
    "print(avalanche_sens_df[[\"block_code\", \"Avalanche_Sensitivity_Index\"]].head())\n",
    "print(avalanche_sens_df[\"Avalanche_Sensitivity_Index\"].describe())\n"
   ]
  },
  {
   "cell_type": "code",
   "execution_count": 8,
   "id": "f4f34b2b",
   "metadata": {},
   "outputs": [
    {
     "name": "stdout",
     "output_type": "stream",
     "text": [
      "                                      PC1       PC2\n",
      "kutchha_ratio_scaled             0.177005 -0.151988\n",
      "anaemic_pregnant_ratio_scaled    0.093499 -0.558741\n",
      "anaemic_adolescent_ratio_scaled  0.118785 -0.719411\n",
      "sc_ratio_scaled                 -0.135134  0.023548\n",
      "st_ratio_scaled                  0.959360  0.203338\n",
      "hh_non_farm_ratio_scaled        -0.075595  0.269102\n",
      "pmuy_ratio_scaled                0.038349 -0.181216\n"
     ]
    }
   ],
   "source": [
    "loadings_sens = pd.DataFrame(\n",
    "    pca_n.components_.T,\n",
    "    index=sens_pca_vars,\n",
    "    columns=[f\"PC{i+1}\" for i in range(n_components)]\n",
    ")\n",
    "print(loadings_sens)\n"
   ]
  }
 ],
 "metadata": {
  "kernelspec": {
   "display_name": "Python 3 (ipykernel)",
   "language": "python",
   "name": "python3"
  },
  "language_info": {
   "codemirror_mode": {
    "name": "ipython",
    "version": 3
   },
   "file_extension": ".py",
   "mimetype": "text/x-python",
   "name": "python",
   "nbconvert_exporter": "python",
   "pygments_lexer": "ipython3",
   "version": "3.11.5"
  }
 },
 "nbformat": 4,
 "nbformat_minor": 5
}
