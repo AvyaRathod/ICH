{
 "cells": [
  {
   "cell_type": "code",
   "execution_count": 1,
   "id": "024070c6",
   "metadata": {},
   "outputs": [
    {
     "name": "stderr",
     "output_type": "stream",
     "text": [
      "/Users/varnika/anaconda3/lib/python3.11/site-packages/pandas/core/arrays/masked.py:60: UserWarning: Pandas requires version '1.3.6' or newer of 'bottleneck' (version '1.3.5' currently installed).\n",
      "  from pandas.core import (\n",
      "/var/folders/gw/xg9wcgln7x1f2k7qpz6vkm_c0000gn/T/ipykernel_49442/1522025319.py:7: DtypeWarning: Columns (9) have mixed types. Specify dtype option on import or set low_memory=False.\n",
      "  df = pd.read_csv('/Users/varnika/Desktop/harvard/all_var_int.csv')\n"
     ]
    }
   ],
   "source": [
    "import pandas as pd \n",
    "import numpy as np\n",
    "from sklearn.preprocessing import StandardScaler,RobustScaler,MinMaxScaler\n",
    "import matplotlib.pyplot as plt\n",
    "from sklearn.decomposition import PCA\n",
    "\n",
    "df = pd.read_csv('/Users/varnika/Desktop/harvard/all_var_int.csv')\n",
    "pd.set_option('display.max_columns', None)"
   ]
  },
  {
   "cell_type": "code",
   "execution_count": 2,
   "id": "a15bc7f0",
   "metadata": {},
   "outputs": [],
   "source": [
    "# rapid flow of snow down the slope - Avalanches"
   ]
  },
  {
   "cell_type": "code",
   "execution_count": 3,
   "id": "d4e16d26",
   "metadata": {},
   "outputs": [],
   "source": [
    "avalanche_ac_vars = [\n",
    "    \"vill_road_coverage\",        # fraction of villages with all-weather roads\n",
    "    \"vill_rwh_coverage\",         # fraction with rainwater-harvesting (some resilience to weather extremes)\n",
    "    \"vill_elec_no_ratio\",        # fraction of villages with no electricity (inverse capacity)\n",
    "    \"vill_elec_mt_12_ratio\",     # fraction with >12 hrs electricity\n",
    "    \"bc_per_10k_pop\",            # bank correspondents per 10k population\n",
    "    \"branch_per_10k_pop\",        # bank branches per 10k population\n",
    "    \"shg_per_1000_hh\",           # self-help groups indicating social capital\n",
    "    \"loan_per_hh\",               # average credit/loan per household\n",
    "    \"jobcard_issued_ratio\",      # fraction of HHs with MGNREGA jobcards\n",
    "    \"active_jobcard_ratio\",      # fraction actively used\n",
    "    \"pmuy_ratio\",                # coverage of LPG (clean fuel)\n",
    "    \"hh_non_farm_ratio\",         # livelihood diversification\n",
    "    \"irrigation_ratio\"           # fraction of net irrigated area (if relevant to avalanche context)\n",
    "]\n"
   ]
  },
  {
   "cell_type": "code",
   "execution_count": 4,
   "id": "71389fd5",
   "metadata": {},
   "outputs": [
    {
     "name": "stdout",
     "output_type": "stream",
     "text": [
      "state_code               0\n",
      "district_code            0\n",
      "block_code               0\n",
      "FID_Key                  0\n",
      "vill_road_coverage       0\n",
      "vill_rwh_coverage        0\n",
      "vill_elec_no_ratio       0\n",
      "vill_elec_mt_12_ratio    0\n",
      "bc_per_10k_pop           0\n",
      "branch_per_10k_pop       0\n",
      "shg_per_1000_hh          0\n",
      "loan_per_hh              0\n",
      "jobcard_issued_ratio     0\n",
      "active_jobcard_ratio     0\n",
      "pmuy_ratio               0\n",
      "hh_non_farm_ratio        0\n",
      "irrigation_ratio         0\n",
      "dtype: int64\n"
     ]
    }
   ],
   "source": [
    "import pandas as pd\n",
    "\n",
    "# ID columns to keep track of block/district\n",
    "id_cols = [\"state_code\", \"district_code\", \"block_code\", \"FID_Key\"]\n",
    "\n",
    "# Combine them with your chosen avalanche AC variables\n",
    "avalanche_ac_cols = id_cols + avalanche_ac_vars\n",
    "\n",
    "# Subset from your master DataFrame (assuming it's df)\n",
    "avalanche_ac_df = df[avalanche_ac_cols].copy()\n",
    "\n",
    "# Check for missing data\n",
    "print(avalanche_ac_df.isna().sum())\n"
   ]
  },
  {
   "cell_type": "code",
   "execution_count": 5,
   "id": "7f79e26c",
   "metadata": {},
   "outputs": [],
   "source": [
    "from sklearn.preprocessing import RobustScaler\n",
    "\n",
    "Rscaler = RobustScaler()\n",
    "\n",
    "# Only scale your AC variables\n",
    "features_only = avalanche_ac_df[avalanche_ac_vars].astype(float).values\n",
    "features_scaled = Rscaler.fit_transform(features_only)\n",
    "\n",
    "# Create a scaled DataFrame\n",
    "ac_scaled = pd.DataFrame(features_scaled,\n",
    "                         columns=avalanche_ac_vars,\n",
    "                         index=avalanche_ac_df.index)\n",
    "\n",
    "# Attach these scaled columns back to avalanche_ac_df (or keep them separate)\n",
    "for col in avalanche_ac_vars:\n",
    "    avalanche_ac_df[col + \"_scaled\"] = ac_scaled[col]\n"
   ]
  },
  {
   "cell_type": "code",
   "execution_count": 6,
   "id": "54bd1c18",
   "metadata": {},
   "outputs": [
    {
     "name": "stdout",
     "output_type": "stream",
     "text": [
      "    % variance  Cumulative %\n",
      "0        0.705         0.705\n",
      "1        0.109         0.814\n",
      "2        0.051         0.865\n",
      "3        0.045         0.910\n",
      "4        0.027         0.936\n",
      "5        0.017         0.953\n",
      "6        0.013         0.967\n",
      "7        0.011         0.977\n",
      "8        0.010         0.987\n",
      "9        0.006         0.993\n",
      "10       0.004         0.997\n",
      "11       0.003         1.000\n",
      "12       0.000         1.000\n"
     ]
    }
   ],
   "source": [
    "from sklearn.decomposition import PCA\n",
    "import numpy as np\n",
    "\n",
    "# Gather only scaled columns\n",
    "ac_pca_vars = [c for c in avalanche_ac_df.columns if c.endswith(\"_scaled\")]\n",
    "X_ac = avalanche_ac_df[ac_pca_vars].astype(float)\n",
    "\n",
    "pca = PCA()\n",
    "pca.fit(X_ac)\n",
    "\n",
    "# Summarize variance\n",
    "pcaSummary_ava_ac = pd.DataFrame({\n",
    "    '% variance': pca.explained_variance_ratio_,\n",
    "    'Cumulative %': np.cumsum(pca.explained_variance_ratio_)\n",
    "})\n",
    "print(pcaSummary_ava_ac.round(3))\n"
   ]
  },
  {
   "cell_type": "code",
   "execution_count": 7,
   "id": "efeea431",
   "metadata": {},
   "outputs": [
    {
     "data": {
      "image/png": "[encoded data removed]",
      "text/plain": [
       "<Figure size 800x500 with 1 Axes>"
      ]
     },
     "metadata": {},
     "output_type": "display_data"
    }
   ],
   "source": [
    "import matplotlib.pyplot as plt\n",
    "\n",
    "eigenvalues = pca.explained_variance_\n",
    "xvals = np.arange(len(eigenvalues))\n",
    "\n",
    "plt.figure(figsize=(8,5))\n",
    "plt.plot(xvals, eigenvalues, 'ro-', linewidth=2)\n",
    "plt.title(\"Scree Plot for Avalanche Adaptive Capacity PCA\")\n",
    "plt.xlabel(\"Principal Component\")\n",
    "plt.ylabel(\"Eigenvalue\")\n",
    "plt.axhline(y=1, color='b', linestyle='--', label=\"Eigenvalue=1\")\n",
    "plt.xticks(xvals)\n",
    "plt.legend()\n",
    "plt.show()\n"
   ]
  },
  {
   "cell_type": "code",
   "execution_count": 8,
   "id": "4474f57c",
   "metadata": {},
   "outputs": [
    {
     "name": "stdout",
     "output_type": "stream",
     "text": [
      "   block_code  Avalanche_AdaptiveCap_Index\n",
      "0        6498                    -0.067165\n",
      "1        6492                    -0.996775\n",
      "2        4689                     2.579089\n",
      "3        4690                    -0.724012\n",
      "4        4692                    -0.422838\n",
      "count    5.815000e+03\n",
      "mean     7.820247e-17\n",
      "std      4.061794e+00\n",
      "min     -1.645480e+00\n",
      "25%     -8.111761e-01\n",
      "50%     -5.105656e-01\n",
      "75%     -2.679471e-02\n",
      "max      1.963378e+02\n",
      "Name: Avalanche_AdaptiveCap_Index, dtype: float64\n"
     ]
    }
   ],
   "source": [
    "n_components = 4\n",
    "pca_n = PCA(n_components=n_components)\n",
    "X_ac_pca = pca_n.fit_transform(X_ac)\n",
    "\n",
    "pca_weights = pcaSummary_ava_ac['% variance'][:n_components]\n",
    "\n",
    "# Add PC columns to DataFrame\n",
    "for i in range(n_components):\n",
    "    avalanche_ac_df[f\"AvalancheAC_PC{i+1}\"] = X_ac_pca[:, i]\n",
    "\n",
    "# Weighted sum => \"Avalanche_AdaptiveCap_Index\"\n",
    "avalanche_ac_df[\"Avalanche_AdaptiveCap_Index\"] = 0\n",
    "for i in range(n_components):\n",
    "    avalanche_ac_df[\"Avalanche_AdaptiveCap_Index\"] += (\n",
    "        pca_weights.iloc[i] * avalanche_ac_df[f\"AvalancheAC_PC{i+1}\"]\n",
    "    )\n",
    "\n",
    "print(avalanche_ac_df[[\"block_code\", \"Avalanche_AdaptiveCap_Index\"]].head())\n",
    "print(avalanche_ac_df[\"Avalanche_AdaptiveCap_Index\"].describe())\n"
   ]
  },
  {
   "cell_type": "code",
   "execution_count": 9,
   "id": "80bc2b62",
   "metadata": {},
   "outputs": [
    {
     "name": "stdout",
     "output_type": "stream",
     "text": [
      "                                   PC1       PC2       PC3       PC4\n",
      "vill_road_coverage_scaled     0.010582 -0.171623 -0.076613 -0.012914\n",
      "vill_rwh_coverage_scaled      0.003754 -0.089145 -0.040640 -0.014137\n",
      "vill_elec_no_ratio_scaled    -0.012037  0.688419 -0.071056  0.035063\n",
      "vill_elec_mt_12_ratio_scaled -0.012037  0.688419 -0.071056  0.035063\n",
      "bc_per_10k_pop_scaled         0.454164  0.031694  0.652162  0.581777\n",
      "branch_per_10k_pop_scaled     0.890231  0.005439 -0.330021 -0.293770\n",
      "shg_per_1000_hh_scaled       -0.004628  0.031468  0.145549 -0.242455\n",
      "loan_per_hh_scaled           -0.002708  0.002112  0.244016 -0.354254\n",
      "jobcard_issued_ratio_scaled   0.001332  0.063128  0.449253 -0.457574\n",
      "active_jobcard_ratio_scaled   0.006140  0.054213  0.357909 -0.393442\n",
      "pmuy_ratio_scaled            -0.010646 -0.003294  0.115490  0.046409\n",
      "hh_non_farm_ratio_scaled      0.023037 -0.056809 -0.154309  0.049241\n",
      "irrigation_ratio_scaled      -0.009782 -0.050642 -0.018604  0.139212\n"
     ]
    }
   ],
   "source": [
    "loadings_ac = pd.DataFrame(\n",
    "    pca_n.components_.T,\n",
    "    index=ac_pca_vars,\n",
    "    columns=[f\"PC{i+1}\" for i in range(n_components)]\n",
    ")\n",
    "print(loadings_ac)\n"
   ]
  }
 ],
 "metadata": {
  "kernelspec": {
   "display_name": "Python 3 (ipykernel)",
   "language": "python",
   "name": "python3"
  },
  "language_info": {
   "codemirror_mode": {
    "name": "ipython",
    "version": 3
   },
   "file_extension": ".py",
   "mimetype": "text/x-python",
   "name": "python",
   "nbconvert_exporter": "python",
   "pygments_lexer": "ipython3",
   "version": "3.11.5"
  }
 },
 "nbformat": 4,
 "nbformat_minor": 5
}
