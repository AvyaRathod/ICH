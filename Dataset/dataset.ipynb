{
 "cells": [
  {
   "cell_type": "code",
   "execution_count": 8,
   "metadata": {},
   "outputs": [
    {
     "name": "stdout",
     "output_type": "stream",
     "text": [
      "CSV files for Exposure, Sensitivity, and Adaptive Capacity created successfully!\n"
     ]
    }
   ],
   "source": [
    "import pandas as pd\n",
    "\n",
    "common_cols = [\"state_code\", \"state_name\", \"district_code\", \"district_name\", \"block_code\", \"block_name\", \"stcode11\", \"dtcode11\", \"blkcode11\", \"FID_Key\", \"total_villages\", \"total_vill_survey_completed\", \"geog_area\"]\n",
    "# 1. Define the column groups (based on your categorization)\n",
    "exposure_cols = [\n",
    "    \"drought_frq\", \"storm_freq\", \"flood_freq\", \"cum_flood\", \"cnt_flood_yr\",\n",
    "    \"aridity\", \"crp_sq_km\", \"fcover_sq_km\", \"forest_gain_total\",\n",
    "    \"floss_total\", \"landslide_f\", \"rugged\", \"air_pollutn\", \"elev_mean\",\n",
    "    \"bdod\", \"cec\", \"cfvo\", \"clay\", \"ocd\", \"ocs\", \"phh_20\", \"soc\",\n",
    "    \"sand\", \"silt\", \"avg_tmin_annual\", \"lpa_tmin_90th_temp\",\n",
    "    \"avg_tmax_annual\", \"lpa_tmax_90th_temp\", \"lpa_total_rainfall\",\n",
    "    \"rainfall_2020\", \"date_mons\", \"coef_variation\"\n",
    "]\n",
    "\n",
    "sensitivity_cols = [\n",
    "    \"total_households\", \"total_population\", \"sc_population\", \"st_population\",\n",
    "    \"gen_population\", \"hh_kutcha_wall_roof\", \"anaemic_pregnant_women\",\n",
    "    \"anaemic_adolescent_girls\", \"tot_area_unirrigated\", \"cdi_value\",\n",
    "    \"vld_rural\", \"ld_rural\", \"rural\", \"s_urban\", \"sd_urban\",\n",
    "    \"d_urban\", \"urban\"\n",
    "]\n",
    "\n",
    "adaptive_capacity_cols = [\n",
    "    # Infrastructure & Basic Services\n",
    "    \"vill_all_weather_road\", \"pop_all_weather_road\", \"num_vill_no_elec\",\n",
    "    \"num_vill_elec_1_4_hrs\", \"num_vill_elec_4_8_hrs\", \"num_vill_elec_8_12_hrs\",\n",
    "    \"num_vill_elec_mt_12_hrs\", \"total_vill_rain_water_harvesting_system\",\n",
    "    \"tot_area_irrigated\",\n",
    "    # Financial & Institutional Capacity\n",
    "    \"total_bc_w_internet\", \"bc_cnt\", \"branch_cnt\", \"bcrural\", \"branch_rur\",\n",
    "    \"total_shgs\", \"total_hhs_mobilizedinto_pgs\", \"total_shgs_accessed_bank_loans\",\n",
    "    \"total_shg_loan_amount\", \"cisi\",\n",
    "    # Livelihood Diversification & Social Safety Nets\n",
    "    \"hh_non_farm_activities\", \"hhs_availing_benefits_PMUY\", \"tot_expenditure\",\n",
    "    \"tot_mandays\", \"num_jobcards_applied\", \"num_jobcards_issued\",\n",
    "    \"num_of_active_job_cards\", \"total_reg_workers\", \"women_reg_workers\",\n",
    "    \"num_joint_acc_of_women\", \"num_total_acc_of_women\",\n",
    "    \"num_women_beneficiary_worker_with_acc\",\n",
    "    \"num_women_beneficiary_active_worker_with_acc\",\n",
    "    # Market Access & Connectivity\n",
    "    \"avg_trvl_1\", \"avg_trvl_2\", \"avg_trvl_3\", \"avg_trvl_4\", \"avg_trvl_5\",\n",
    "    \"avg_trvl_6\", \"avg_trvl_7\", \"avg_trvl_8\", \"avg_trvl_9\", \"total_rad\",\n",
    "    # Water Resource Sustainability\n",
    "    \"gw_stge_of_extraction\", \"gw_extraction_category\"\n",
    "]\n",
    "\n",
    "# 2. Read the input CSV (update 'input.csv' to your actual file)\n",
    "input_file = \"all_var_int.csv\"\n",
    "df = pd.read_csv(input_file)\n",
    "\n",
    "# 3. Create separate DataFrames for each category\n",
    "df_exposure = df[common_cols+ exposure_cols]\n",
    "df_sensitivity = df[common_cols+ sensitivity_cols]\n",
    "df_adaptive_capacity = df[common_cols+ adaptive_capacity_cols]\n",
    "\n",
    "# 4. Save each category DataFrame to its own CSV\n",
    "# (Update the output filenames if desired)\n",
    "df_exposure.to_csv(\"exposure.csv\", index=False)\n",
    "df_sensitivity.to_csv(\"sensitivity.csv\", index=False)\n",
    "df_adaptive_capacity.to_csv(\"adaptive_capacity.csv\", index=False)\n",
    "\n",
    "print(\"CSV files for Exposure, Sensitivity, and Adaptive Capacity created successfully!\")\n"
   ]
  },
  {
   "cell_type": "code",
   "execution_count": null,
   "metadata": {},
   "outputs": [],
   "source": []
  }
 ],
 "metadata": {
  "kernelspec": {
   "display_name": ".venv",
   "language": "python",
   "name": "python3"
  },
  "language_info": {
   "codemirror_mode": {
    "name": "ipython",
    "version": 3
   },
   "file_extension": ".py",
   "mimetype": "text/x-python",
   "name": "python",
   "nbconvert_exporter": "python",
   "pygments_lexer": "ipython3",
   "version": "3.13.1"
  }
 },
 "nbformat": 4,
 "nbformat_minor": 2
}
