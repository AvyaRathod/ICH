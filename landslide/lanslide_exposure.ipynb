{
 "cells": [
  {
   "cell_type": "code",
   "execution_count": 11,
   "id": "12c69ec4",
   "metadata": {},
   "outputs": [
    {
     "name": "stderr",
     "output_type": "stream",
     "text": [
      "/var/folders/gw/xg9wcgln7x1f2k7qpz6vkm_c0000gn/T/ipykernel_42253/3777261934.py:7: DtypeWarning: Columns (9) have mixed types. Specify dtype option on import or set low_memory=False.\n",
      "  df = pd.read_csv('/Users/varnika/Desktop/harvard/all_var_int.csv')\n"
     ]
    }
   ],
   "source": [
    "import pandas as pd \n",
    "import numpy as np\n",
    "from sklearn.preprocessing import StandardScaler,RobustScaler,MinMaxScaler\n",
    "import matplotlib.pyplot as plt\n",
    "from sklearn.decomposition import PCA\n",
    "\n",
    "df = pd.read_csv('/Users/varnika/Desktop/harvard/all_var_int.csv')\n",
    "pd.set_option('display.max_columns', None)\n"
   ]
  },
  {
   "cell_type": "code",
   "execution_count": 17,
   "id": "d1037810",
   "metadata": {},
   "outputs": [],
   "source": [
    "landslide_vars = [\n",
    "    \"rugged\", \"elev_mean\", \n",
    "    \"bdod\", \"cec\", \"cfvo\", \"clay\", \"sand\", \"silt\", \"phh_20\", \"soc\", \"ocd\", \"ocs\",\n",
    "    \"floss_ratio\", \"forest_gain_ratio\", \"crp_ratio\", \"fcover_ratio\", 'landslide_f', 'rainfall_2020' \n",
    "]\n",
    "\n"
   ]
  },
  {
   "cell_type": "code",
   "execution_count": 20,
   "id": "ef8cd610",
   "metadata": {},
   "outputs": [],
   "source": [
    "df['floss_ratio'] = df['floss_total'] / df['geog_area']\n",
    "df['crp_ratio']   = df['crp_sq_km']   / df['geog_area']\n",
    "df['fcover_ratio'] = df['fcover_sq_km'] / df['geog_area']\n",
    "df['forest_gain_ratio'] = df['forest_gain_fraction'] / df['geog_area']\n"
   ]
  },
  {
   "cell_type": "code",
   "execution_count": 21,
   "id": "2b55af95",
   "metadata": {},
   "outputs": [],
   "source": [
    "# 1. Subset the relevant columns for landslides\n",
    "landslide_cols = [\"state_code\", \"state_name\", \"district_code\", \"district_name\",\n",
    "                  \"block_code\", \"block_name\", \"stcode11\", \"dtcode11\", \"blkcode11\",\n",
    "                  \"FID_Key\"] + landslide_vars\n",
    "\n",
    "landslide_df = df[landslide_cols].copy()\n",
    "\n",
    "\n",
    "# 2. Initialize scaler\n",
    "Rscaler = RobustScaler()\n",
    "\n",
    "# 3. Fit + transform only the features, not the IDs\n",
    "features_only = landslide_df[landslide_vars].values\n",
    "features_scaled = Rscaler.fit_transform(features_only)\n",
    "\n",
    "# 4. Create a scaled DataFrame\n",
    "landslide_scaled = pd.DataFrame(features_scaled, \n",
    "                                columns=landslide_vars, \n",
    "                                index=landslide_df.index)\n",
    "\n",
    "# Merge scaled columns back or keep them separate\n",
    "for col in landslide_vars:\n",
    "    landslide_df[col + \"_scaled\"] = landslide_scaled[col]"
   ]
  },
  {
   "cell_type": "code",
   "execution_count": 22,
   "id": "25f156a5",
   "metadata": {},
   "outputs": [
    {
     "name": "stdout",
     "output_type": "stream",
     "text": [
      "    % variance  Cumulative %\n",
      "0        0.552         0.552\n",
      "1        0.245         0.797\n",
      "2        0.194         0.991\n",
      "3        0.003         0.994\n",
      "4        0.001         0.996\n",
      "5        0.001         0.997\n",
      "6        0.001         0.998\n",
      "7        0.001         0.998\n",
      "8        0.000         0.999\n",
      "9        0.000         0.999\n",
      "10       0.000         0.999\n",
      "11       0.000         1.000\n",
      "12       0.000         1.000\n",
      "13       0.000         1.000\n",
      "14       0.000         1.000\n",
      "15       0.000         1.000\n",
      "16       0.000         1.000\n",
      "17       0.000         1.000\n",
      "   block_code  Landslide_Exposure_Index\n",
      "0        6498                 12.869374\n",
      "1        6492                  7.462357\n",
      "2        4689                 -4.338322\n",
      "3        4690                 -4.653807\n",
      "4        4692                 -4.641996\n",
      "count    5.815000e+03\n",
      "mean    -1.564049e-16\n",
      "std      1.401345e+01\n",
      "min     -4.729436e+00\n",
      "25%     -4.611154e+00\n",
      "50%     -4.331392e+00\n",
      "75%     -2.584122e+00\n",
      "max      1.932648e+02\n",
      "Name: Landslide_Exposure_Index, dtype: float64\n"
     ]
    }
   ],
   "source": [
    "# Drop ID columns and keep only scaled columns for PCA\n",
    "ls_pca_vars = [col for col in landslide_df.columns if col.endswith(\"_scaled\")]\n",
    "X_landslide = landslide_df[ls_pca_vars].astype(float)\n",
    "\n",
    "pca = PCA()\n",
    "pca.fit(X_landslide)\n",
    "\n",
    "# Summarize variance\n",
    "pcaSummary_ls = pd.DataFrame({\n",
    "    '% variance': pca.explained_variance_ratio_,\n",
    "    'Cumulative %': np.cumsum(pca.explained_variance_ratio_)\n",
    "})\n",
    "\n",
    "print(pcaSummary_ls.round(3))\n",
    "\n",
    "# Suppose you keep 2 or 3 PCs based on variance\n",
    "n_components = 2  # or 3\n",
    "pca_n = PCA(n_components=n_components)\n",
    "X_landslide_pca = pca_n.fit_transform(X_landslide)\n",
    "\n",
    "# Weights of each PC\n",
    "pca_weights = pcaSummary_ls['% variance'][:n_components]\n",
    "\n",
    "# Store principal components in DataFrame\n",
    "for i in range(n_components):\n",
    "    landslide_df[f\"Landslide_PC{i+1}\"] = X_landslide_pca[:, i]\n",
    "\n",
    "# Weighted sum => “Landslide_Exposure_Index”\n",
    "landslide_df[\"Landslide_Exposure_Index\"] = 0\n",
    "for i in range(n_components):\n",
    "    landslide_df[\"Landslide_Exposure_Index\"] += pca_weights.iloc[i] * landslide_df[f\"Landslide_PC{i+1}\"]\n",
    "\n",
    "# Inspect final index\n",
    "print(landslide_df[[\"block_code\", \"Landslide_Exposure_Index\"]].head())\n",
    "print(landslide_df[\"Landslide_Exposure_Index\"].describe())"
   ]
  },
  {
   "cell_type": "code",
   "execution_count": 24,
   "id": "df729efb",
   "metadata": {
    "scrolled": true
   },
   "outputs": [],
   "source": [
    "# keeping 3 PCs based on variance\n",
    "n_components = 3  \n",
    "pca_n = PCA(n_components=n_components)\n",
    "X_landslide_pca = pca_n.fit_transform(X_landslide)\n",
    "\n",
    "pca_weights = pcaSummary_ls['% variance'][:n_components]\n",
    "\n",
    "# Store principal components in DataFrame\n",
    "for i in range(n_components):\n",
    "    landslide_df[f\"Landslide_PC{i+1}\"] = X_landslide_pca[:, i]\n"
   ]
  },
  {
   "cell_type": "code",
   "execution_count": 25,
   "id": "35f8657b",
   "metadata": {},
   "outputs": [],
   "source": [
    "landslide_df[\"Landslide_Exposure_Index\"] = 0\n",
    "for i in range(n_components):\n",
    "    landslide_df[\"Landslide_Exposure_Index\"] += (\n",
    "        pca_weights.iloc[i] * landslide_df[f\"Landslide_PC{i+1}\"]\n",
    "    )"
   ]
  },
  {
   "cell_type": "code",
   "execution_count": 26,
   "id": "d1764323",
   "metadata": {},
   "outputs": [
    {
     "name": "stdout",
     "output_type": "stream",
     "text": [
      "Index(['state_code', 'state_name', 'district_code', 'district_name',\n",
      "       'block_code', 'block_name', 'stcode11', 'dtcode11', 'blkcode11',\n",
      "       'FID_Key', 'rugged', 'elev_mean', 'bdod', 'cec', 'cfvo', 'clay', 'sand',\n",
      "       'silt', 'phh_20', 'soc', 'ocd', 'ocs', 'floss_ratio',\n",
      "       'forest_gain_ratio', 'crp_ratio', 'fcover_ratio', 'landslide_f',\n",
      "       'rainfall_2020', 'rugged_scaled', 'elev_mean_scaled', 'bdod_scaled',\n",
      "       'cec_scaled', 'cfvo_scaled', 'clay_scaled', 'sand_scaled',\n",
      "       'silt_scaled', 'phh_20_scaled', 'soc_scaled', 'ocd_scaled',\n",
      "       'ocs_scaled', 'floss_ratio_scaled', 'forest_gain_ratio_scaled',\n",
      "       'crp_ratio_scaled', 'fcover_ratio_scaled', 'landslide_f_scaled',\n",
      "       'rainfall_2020_scaled', 'Landslide_PC1', 'Landslide_PC2',\n",
      "       'Landslide_Exposure_Index', 'Landslide_PC3'],\n",
      "      dtype='object')\n"
     ]
    }
   ],
   "source": [
    "print(landslide_df.columns)\n"
   ]
  },
  {
   "cell_type": "code",
   "execution_count": 27,
   "id": "b7ccfc5b",
   "metadata": {},
   "outputs": [
    {
     "name": "stdout",
     "output_type": "stream",
     "text": [
      "                               PC1       PC2       PC3\n",
      "rugged_scaled             0.295190  0.523193 -0.793068\n",
      "elev_mean_scaled          0.015378  0.046026 -0.052936\n",
      "bdod_scaled              -0.014597 -0.009110  0.010229\n",
      "cec_scaled               -0.004643 -0.002723  0.000012\n",
      "cfvo_scaled               0.008079  0.007082 -0.011737\n",
      "clay_scaled              -0.000373 -0.005708  0.006972\n",
      "sand_scaled               0.001983  0.000895 -0.008221\n",
      "silt_scaled              -0.001540  0.004754  0.001049\n",
      "phh_20_scaled            -0.018668 -0.008993  0.005121\n",
      "soc_scaled                0.013746  0.020362 -0.024455\n",
      "ocd_scaled                0.011676  0.017951 -0.019929\n",
      "ocs_scaled                0.015862  0.014101 -0.014313\n",
      "floss_ratio_scaled        0.943536 -0.286901  0.162846\n",
      "forest_gain_ratio_scaled  0.142419  0.800083  0.582475\n",
      "crp_ratio_scaled         -0.012067 -0.010303  0.010729\n",
      "fcover_ratio_scaled       0.021390  0.014624 -0.014657\n",
      "landslide_f_scaled        0.007267  0.013114 -0.022370\n",
      "rainfall_2020_scaled      0.013977 -0.000567  0.005388\n"
     ]
    }
   ],
   "source": [
    "loadings = pd.DataFrame(pca_n.components_.T,\n",
    "   index=X_landslide.columns,\n",
    "   columns=[f\"PC{i+1}\" for i in range(n_components)]\n",
    ")\n",
    "print(loadings)\n"
   ]
  },
  {
   "cell_type": "code",
   "execution_count": 30,
   "id": "56cd5c09",
   "metadata": {},
   "outputs": [
    {
     "name": "stdout",
     "output_type": "stream",
     "text": [
      "   block_code  Landslide_Exposure_Index\n",
      "0        6498                 13.477031\n",
      "1        6492                  8.238749\n",
      "2        4689                 -4.244717\n",
      "3        4690                 -4.421473\n",
      "4        4692                 -4.423521\n",
      "count    5.815000e+03\n",
      "mean     5.474173e-16\n",
      "std      1.429118e+01\n",
      "min     -4.478636e+00\n",
      "25%     -4.369198e+00\n",
      "50%     -4.102623e+00\n",
      "75%     -2.483507e+00\n",
      "max      2.747098e+02\n",
      "Name: Landslide_Exposure_Index, dtype: float64\n"
     ]
    }
   ],
   "source": [
    "\n",
    "\n",
    "# Weighted sum => “Landslide_Exposure_Index” using the 3 PCs\n",
    "landslide_df[\"Landslide_Exposure_Index\"] = (\n",
    "    pca_weights.iloc[0] * landslide_df[\"Landslide_PC1\"] +\n",
    "    pca_weights.iloc[1] * landslide_df[\"Landslide_PC2\"] +\n",
    "    pca_weights.iloc[2] * landslide_df[\"Landslide_PC3\"]\n",
    ")\n",
    "\n",
    "# Inspect a few rows\n",
    "print(landslide_df[[\"block_code\", \"Landslide_Exposure_Index\"]].head())\n",
    "\n",
    "# Summary stats (min, max, mean, etc.)\n",
    "print(landslide_df[\"Landslide_Exposure_Index\"].describe())\n"
   ]
  }
 ],
 "metadata": {
  "kernelspec": {
   "display_name": "Python 3 (ipykernel)",
   "language": "python",
   "name": "python3"
  },
  "language_info": {
   "codemirror_mode": {
    "name": "ipython",
    "version": 3
   },
   "file_extension": ".py",
   "mimetype": "text/x-python",
   "name": "python",
   "nbconvert_exporter": "python",
   "pygments_lexer": "ipython3",
   "version": "3.11.5"
  }
 },
 "nbformat": 4,
 "nbformat_minor": 5
}
