{
 "cells": [
  {
   "cell_type": "code",
   "execution_count": 2,
   "id": "9909c7a9",
   "metadata": {},
   "outputs": [
    {
     "name": "stderr",
     "output_type": "stream",
     "text": [
      "/var/folders/gw/xg9wcgln7x1f2k7qpz6vkm_c0000gn/T/ipykernel_30408/1522025319.py:7: DtypeWarning: Columns (9) have mixed types. Specify dtype option on import or set low_memory=False.\n",
      "  df = pd.read_csv('/Users/varnika/Desktop/harvard/all_var_int.csv')\n"
     ]
    }
   ],
   "source": [
    "import pandas as pd \n",
    "import numpy as np\n",
    "from sklearn.preprocessing import StandardScaler,RobustScaler,MinMaxScaler\n",
    "import matplotlib.pyplot as plt\n",
    "from sklearn.decomposition import PCA\n",
    "\n",
    "df = pd.read_csv('/Users/varnika/Desktop/harvard/all_var_int.csv')\n",
    "pd.set_option('display.max_columns', None)"
   ]
  },
  {
   "cell_type": "code",
   "execution_count": 3,
   "id": "81786b9c",
   "metadata": {},
   "outputs": [],
   "source": [
    "sensitivity_vars = [\n",
    "    \"sc_ratio\", \"st_ratio\", \"gen_ratio\",\n",
    "    \"anaemic_pregnant_ratio\", \"anaemic_adolescent_ratio\",\n",
    "    \"hh_kutcha_wall_roof\",\n",
    "    \"pmuy_ratio\",\n",
    "    \"hh_non_farm_ratio\"]"
   ]
  },
  {
   "cell_type": "code",
   "execution_count": 5,
   "id": "24558b01",
   "metadata": {},
   "outputs": [],
   "source": [
    "import pandas as pd\n",
    "import numpy as np\n",
    "\n",
    "\n",
    "# Subset columns\n",
    "id_cols = [\"state_code\", \"district_code\", \"block_code\", \"FID_Key\"]  # or whichever ID columns you want\n",
    "landslide_sens_cols = id_cols + sensitivity_vars\n",
    "\n",
    "# Create a new DataFrame\n",
    "landslide_sens_df = df[landslide_sens_cols].copy()\n",
    "\n"
   ]
  },
  {
   "cell_type": "code",
   "execution_count": 6,
   "id": "a5c4f145",
   "metadata": {},
   "outputs": [],
   "source": [
    "from sklearn.preprocessing import RobustScaler\n",
    "\n",
    "Rscaler = RobustScaler()\n",
    "\n",
    "# Only scale the sensitivity variables, not the ID columns\n",
    "features_only = landslide_sens_df[sensitivity_vars].values.astype(float)\n",
    "features_scaled = Rscaler.fit_transform(features_only)\n",
    "\n",
    "# Create scaled DataFrame\n",
    "sens_scaled = pd.DataFrame(features_scaled, \n",
    "                           columns=sensitivity_vars, \n",
    "                           index=landslide_sens_df.index)\n",
    "\n",
    "# Merge or keep separate\n",
    "for col in sensitivity_vars:\n",
    "    landslide_sens_df[col + \"_scaled\"] = sens_scaled[col]\n"
   ]
  },
  {
   "cell_type": "code",
   "execution_count": 7,
   "id": "0a65cc86",
   "metadata": {},
   "outputs": [
    {
     "name": "stdout",
     "output_type": "stream",
     "text": [
      "   % variance  Cumulative %\n",
      "0       0.500         0.500\n",
      "1       0.162         0.662\n",
      "2       0.091         0.754\n",
      "3       0.064         0.818\n",
      "4       0.062         0.880\n",
      "5       0.051         0.930\n",
      "6       0.039         0.970\n",
      "7       0.030         1.000\n"
     ]
    }
   ],
   "source": [
    "from sklearn.decomposition import PCA\n",
    "\n",
    "# Collect only the scaled columns for PCA\n",
    "sens_pca_vars = [col for col in landslide_sens_df.columns if col.endswith(\"_scaled\")]\n",
    "X_sens = landslide_sens_df[sens_pca_vars].astype(float)\n",
    "\n",
    "pca = PCA()\n",
    "pca.fit(X_sens)\n",
    "\n",
    "# Summarize variance\n",
    "pcaSummary_sens = pd.DataFrame({\n",
    "    '% variance': pca.explained_variance_ratio_,\n",
    "    'Cumulative %': np.cumsum(pca.explained_variance_ratio_)\n",
    "})\n",
    "print(pcaSummary_sens.round(3))\n"
   ]
  },
  {
   "cell_type": "code",
   "execution_count": 11,
   "id": "2c5dd88f",
   "metadata": {},
   "outputs": [
    {
     "data": {
      "image/png": "[encoded data removed]",
      "text/plain": [
       "<Figure size 800x500 with 1 Axes>"
      ]
     },
     "metadata": {},
     "output_type": "display_data"
    }
   ],
   "source": [
    "import matplotlib.pyplot as plt\n",
    "import numpy as np\n",
    "from sklearn.decomposition import PCA\n",
    "\n",
    "# Suppose you have your scaled data in X_sens (e.g., 'sensitivity_vars' scaled):\n",
    "pca = PCA()  \n",
    "pca.fit(X_sens)\n",
    "\n",
    "# Eigenvalues (variances of each principal component)\n",
    "eigenvalues = pca.explained_variance_\n",
    "\n",
    "# Create x-axis values: one for each PC\n",
    "xvals = np.arange(len(eigenvalues))  # e.g., [0, 1, 2, 3, ...]\n",
    "\n",
    "# Scree Plot\n",
    "plt.figure(figsize=(8, 5))\n",
    "plt.plot(xvals, eigenvalues, 'ro-', linewidth=2, markersize=5)\n",
    "plt.title(\"Scree Plot for Landslide Sensitivity PCA\")\n",
    "plt.xlabel(\"Principal Component\")\n",
    "plt.ylabel(\"Eigenvalue\")\n",
    "\n",
    "# Often, a horizontal line at y=1 helps visualize how many PCs are above that “latent root” threshold\n",
    "plt.axhline(y=1, color='b', linestyle='--', label=\"Eigenvalue = 1\")\n",
    "\n",
    "# Label x-ticks to match component indices\n",
    "plt.xticks(xvals)\n",
    "\n",
    "plt.legend()\n",
    "plt.show()\n"
   ]
  },
  {
   "cell_type": "code",
   "execution_count": 10,
   "id": "07720839",
   "metadata": {},
   "outputs": [
    {
     "name": "stdout",
     "output_type": "stream",
     "text": [
      "                                      PC1       PC2       PC3\n",
      "sc_ratio_scaled                 -0.131277  0.023364 -0.028567\n",
      "st_ratio_scaled                  0.936729  0.211581  0.184391\n",
      "gen_ratio_scaled                -0.267133  0.083335  0.585005\n",
      "anaemic_pregnant_ratio_scaled    0.091613 -0.556484  0.125998\n",
      "anaemic_adolescent_ratio_scaled  0.113273 -0.699216  0.389754\n",
      "hh_kutcha_wall_roof_scaled       0.073905 -0.202125 -0.411658\n",
      "pmuy_ratio_scaled                0.037670 -0.186778 -0.208866\n",
      "hh_non_farm_ratio_scaled        -0.076423  0.270971  0.492018\n"
     ]
    }
   ],
   "source": [
    "loadings_sens = pd.DataFrame(\n",
    "    pca_n.components_.T,  # transpose so rows=variables, cols=PCs\n",
    "    index=X_sens.columns,\n",
    "    columns=[f\"PC{i+1}\" for i in range(n_components)]\n",
    ")\n",
    "print(loadings_sens)\n"
   ]
  },
  {
   "cell_type": "code",
   "execution_count": 12,
   "id": "9c049c66",
   "metadata": {},
   "outputs": [
    {
     "name": "stdout",
     "output_type": "stream",
     "text": [
      "   block_code  Landslide_Sensitivity_Index\n",
      "0        6498                    -0.197468\n",
      "1        6492                    -0.477146\n",
      "2        4689                    -0.363960\n",
      "3        4690                    -0.140275\n",
      "4        4692                    -0.389798\n",
      "count    5.815000e+03\n",
      "mean    -2.199444e-17\n",
      "std      1.167030e+00\n",
      "min     -3.098776e+00\n",
      "25%     -5.048636e-01\n",
      "50%     -3.977957e-01\n",
      "75%      5.544876e-03\n",
      "max      5.138059e+01\n",
      "Name: Landslide_Sensitivity_Index, dtype: float64\n"
     ]
    }
   ],
   "source": [
    "n_components = 2\n",
    "pca_n = PCA(n_components=n_components)\n",
    "X_sens_pca = pca_n.fit_transform(X_sens)\n",
    "\n",
    "# Weights for each PC = explained variance ratio of those PCs\n",
    "pca_weights = pcaSummary_sens['% variance'][:n_components]\n",
    "\n",
    "# Add the chosen PC scores to the DataFrame\n",
    "for i in range(n_components):\n",
    "    landslide_sens_df[f\"Sensitivity_PC{i+1}\"] = X_sens_pca[:, i]\n",
    "\n",
    "# Weighted sum => \"Landslide_Sensitivity_Index\"\n",
    "landslide_sens_df[\"Landslide_Sensitivity_Index\"] = 0\n",
    "for i in range(n_components):\n",
    "    landslide_sens_df[\"Landslide_Sensitivity_Index\"] += (\n",
    "        pca_weights.iloc[i] * landslide_sens_df[f\"Sensitivity_PC{i+1}\"]\n",
    "    )\n",
    "\n",
    "# Quick look\n",
    "print(landslide_sens_df[[\"block_code\", \"Landslide_Sensitivity_Index\"]].head())\n",
    "print(landslide_sens_df[\"Landslide_Sensitivity_Index\"].describe())\n"
   ]
  }
 ],
 "metadata": {
  "kernelspec": {
   "display_name": "Python 3 (ipykernel)",
   "language": "python",
   "name": "python3"
  },
  "language_info": {
   "codemirror_mode": {
    "name": "ipython",
    "version": 3
   },
   "file_extension": ".py",
   "mimetype": "text/x-python",
   "name": "python",
   "nbconvert_exporter": "python",
   "pygments_lexer": "ipython3",
   "version": "3.11.5"
  }
 },
 "nbformat": 4,
 "nbformat_minor": 5
}
